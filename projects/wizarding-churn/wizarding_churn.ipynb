{
 "cells": [
  {
   "cell_type": "markdown",
   "id": "c7905102",
   "metadata": {},
   "source": [
    "# Customer Churn at a Wizarding School"
   ]
  },
  {
   "cell_type": "code",
   "execution_count": null,
   "id": "63c1a1ed",
   "metadata": {},
   "outputs": [],
   "source": [
    "import pandas as pd\n",
    "import numpy as np\n",
    "import matplotlib.pyplot as plt\n",
    "import seaborn as sns\n",
    "from sklearn.model_selection import train_test_split\n",
    "from sklearn.linear_model import LogisticRegression\n",
    "from sklearn.tree import DecisionTreeClassifier\n",
    "from sklearn.metrics import classification_report, confusion_matrix, roc_curve\n",
    "\n",
    "df = pd.read_csv('data/wizarding_students.csv')\n",
    "df.head()"
   ]
  },
  {
   "cell_type": "markdown",
   "id": "e40fc04f",
   "metadata": {},
   "source": [
    "## Exploratory Data Analysis (EDA)"
   ]
  },
  {
   "cell_type": "code",
   "execution_count": null,
   "id": "a09abfd7",
   "metadata": {},
   "outputs": [],
   "source": [
    "sns.countplot(data=df, x='Churned')\n",
    "plt.title('Churn Distribution')\n",
    "plt.show()\n",
    "\n",
    "sns.countplot(data=df, x='House', hue='Churned')\n",
    "plt.title('Churn by House')\n",
    "plt.show()\n",
    "\n",
    "df[['FlyingGrades', 'PotionsGrades']].hist(bins=20, figsize=(10,4))\n",
    "plt.suptitle(\"Grade Distributions\")\n",
    "plt.show()"
   ]
  },
  {
   "cell_type": "markdown",
   "id": "29d0707f",
   "metadata": {},
   "source": [
    "## Modeling"
   ]
  },
  {
   "cell_type": "code",
   "execution_count": null,
   "id": "bf9113fb",
   "metadata": {},
   "outputs": [],
   "source": [
    "df_encoded = pd.get_dummies(df.drop(columns=['StudentID']), drop_first=True)\n",
    "X = df_encoded.drop('Churned', axis=1)\n",
    "y = df_encoded['Churned']\n",
    "X_train, X_test, y_train, y_test = train_test_split(X, y, test_size=0.3, random_state=42)\n"
   ]
  },
  {
   "cell_type": "code",
   "execution_count": null,
   "id": "61b4d22b",
   "metadata": {},
   "outputs": [],
   "source": [
    "log_model = LogisticRegression(max_iter=1000)\n",
    "log_model.fit(X_train, y_train)\n",
    "log_preds = log_model.predict(X_test)\n",
    "\n",
    "print(\"Logistic Regression Report:\\n\", classification_report(y_test, log_preds))\n"
   ]
  },
  {
   "cell_type": "code",
   "execution_count": null,
   "id": "4dc78464",
   "metadata": {},
   "outputs": [],
   "source": [
    "tree_model = DecisionTreeClassifier(max_depth=5)\n",
    "tree_model.fit(X_train, y_train)\n",
    "tree_preds = tree_model.predict(X_test)\n",
    "\n",
    "print(\"Decision Tree Report:\\n\", classification_report(y_test, tree_preds))\n"
   ]
  },
  {
   "cell_type": "code",
   "execution_count": null,
   "id": "ca64340a",
   "metadata": {},
   "outputs": [],
   "source": [
    "conf_matrix = confusion_matrix(y_test, tree_preds)\n",
    "sns.heatmap(conf_matrix, annot=True, fmt='d', cmap='Blues')\n",
    "plt.title('Decision Tree Confusion Matrix')\n",
    "plt.show()\n",
    "\n",
    "tree_probs = tree_model.predict_proba(X_test)[:,1]\n",
    "fpr, tpr, thresholds = roc_curve(y_test, tree_probs)\n",
    "plt.plot(fpr, tpr, label='Decision Tree')\n",
    "plt.plot([0,1],[0,1],'k--')\n",
    "plt.xlabel('False Positive Rate')\n",
    "plt.ylabel('True Positive Rate')\n",
    "plt.title('ROC Curve')\n",
    "plt.legend()\n",
    "plt.show()\n"
   ]
  },
  {
   "cell_type": "markdown",
   "id": "0f4e6a93",
   "metadata": {},
   "source": [
    "## Feature Importance"
   ]
  },
  {
   "cell_type": "code",
   "execution_count": null,
   "id": "b6a09a24",
   "metadata": {},
   "outputs": [],
   "source": [
    "importances = pd.Series(tree_model.feature_importances_, index=X.columns)\n",
    "importances.nlargest(10).plot(kind='barh')\n",
    "plt.title('Top 10 Feature Importances')\n",
    "plt.show()\n"
   ]
  }
 ],
 "metadata": {},
 "nbformat": 4,
 "nbformat_minor": 5
}
