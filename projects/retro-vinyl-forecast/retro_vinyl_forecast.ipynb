{
 "cells": [
  {
   "cell_type": "markdown",
   "id": "0048ec59",
   "metadata": {},
   "source": [
    "# 🎶 Sales Forecasting for a Retro Vinyl Shop\n",
    "\n",
    "This notebook explores record sales from a vintage vinyl shop. We'll visualize daily trends, assess promotion effects, and forecast future demand using time series models."
   ]
  },
  {
   "cell_type": "code",
   "execution_count": null,
   "id": "85bf8950",
   "metadata": {},
   "outputs": [],
   "source": [
    "import pandas as pd\n",
    "import numpy as np\n",
    "import matplotlib.pyplot as plt\n",
    "import seaborn as sns\n",
    "\n",
    "df = pd.read_csv(\"data/vinyl_sales.csv\", parse_dates=[\"Date\"])\n",
    "df.head()"
   ]
  },
  {
   "cell_type": "markdown",
   "id": "d25ebddf",
   "metadata": {},
   "source": [
    "## 🧠 Exploratory Data Analysis"
   ]
  },
  {
   "cell_type": "code",
   "execution_count": null,
   "id": "677ac709",
   "metadata": {},
   "outputs": [],
   "source": [
    "# Basic overview\n",
    "print(df.describe())\n",
    "print(\"\\n\", df['Genre'].value_counts())\n",
    "\n",
    "# Daily sales plot\n",
    "daily_sales = df.groupby(\"Date\")[\"UnitsSold\"].sum().reset_index()\n",
    "plt.figure(figsize=(14,5))\n",
    "plt.plot(daily_sales[\"Date\"], daily_sales[\"UnitsSold\"])\n",
    "plt.title(\"Total Units Sold Over Time\")\n",
    "plt.xlabel(\"Date\")\n",
    "plt.ylabel(\"Units Sold\")\n",
    "plt.tight_layout()\n",
    "plt.show()\n"
   ]
  },
  {
   "cell_type": "code",
   "execution_count": null,
   "id": "3e54368b",
   "metadata": {},
   "outputs": [],
   "source": [
    "# Promotion vs Non-Promotion sales\n",
    "sns.boxplot(x=\"StorePromotion\", y=\"UnitsSold\", data=df)\n",
    "plt.title(\"Sales Distribution by Promotion\")\n",
    "plt.show()\n",
    "\n",
    "# Sales by genre\n",
    "genre_sales = df.groupby(\"Genre\")[\"UnitsSold\"].sum().sort_values()\n",
    "genre_sales.plot(kind=\"barh\", color=\"skyblue\")\n",
    "plt.title(\"Total Sales by Genre\")\n",
    "plt.xlabel(\"Units Sold\")\n",
    "plt.show()\n"
   ]
  },
  {
   "cell_type": "markdown",
   "id": "fa0bae86",
   "metadata": {},
   "source": [
    "## 📈 Forecasting with ARIMA or Prophet (manual)"
   ]
  },
  {
   "cell_type": "code",
   "execution_count": null,
   "id": "3137af7a",
   "metadata": {},
   "outputs": [],
   "source": [
    "# Aggregate to daily sales\n",
    "ts = df.groupby(\"Date\")[\"UnitsSold\"].sum().asfreq(\"D\").fillna(0)\n",
    "\n",
    "# Decomposition\n",
    "from statsmodels.tsa.seasonal import seasonal_decompose\n",
    "decomp = seasonal_decompose(ts, model='additive', period=7)\n",
    "decomp.plot()\n",
    "plt.tight_layout()\n",
    "plt.show()\n"
   ]
  },
  {
   "cell_type": "code",
   "execution_count": null,
   "id": "506c8dbd",
   "metadata": {},
   "outputs": [],
   "source": [
    "from statsmodels.tsa.arima.model import ARIMA\n",
    "model = ARIMA(ts, order=(3,1,2))\n",
    "model_fit = model.fit()\n",
    "forecast = model_fit.forecast(steps=30)\n",
    "\n",
    "# Plot forecast\n",
    "plt.figure(figsize=(12,4))\n",
    "plt.plot(ts, label='Historical')\n",
    "plt.plot(forecast.index, forecast, label='Forecast', color='red')\n",
    "plt.title(\"30-Day Sales Forecast\")\n",
    "plt.legend()\n",
    "plt.tight_layout()\n",
    "plt.show()\n"
   ]
  }
 ],
 "metadata": {},
 "nbformat": 4,
 "nbformat_minor": 5
}
