{
 "cells": [
  {
   "cell_type": "markdown",
   "id": "d14bacd1",
   "metadata": {},
   "source": [
    "# 🧙‍♂️ Loan Default Prediction for Student Loans at Hogwarts\n",
    "\n",
    "This notebook explores factors that influence whether magical students default on their student loans. We’ll use logistic regression and gradient boosting to analyze predictors like house affiliation, grades, discipline, and loan size."
   ]
  },
  {
   "cell_type": "code",
   "execution_count": null,
   "id": "93b23c7c",
   "metadata": {},
   "outputs": [],
   "source": [
    "import pandas as pd\n",
    "import numpy as np\n",
    "import matplotlib.pyplot as plt\n",
    "import seaborn as sns\n",
    "\n",
    "df = pd.read_csv(\"data/hogwarts_loan_data.csv\")\n",
    "df.head()"
   ]
  },
  {
   "cell_type": "markdown",
   "id": "62431c7a",
   "metadata": {},
   "source": [
    "## 🔍 Exploratory Data Analysis"
   ]
  },
  {
   "cell_type": "code",
   "execution_count": null,
   "id": "6006ccab",
   "metadata": {},
   "outputs": [],
   "source": [
    "# Default rate\n",
    "print(df['Defaulted'].value_counts(normalize=True))\n",
    "\n",
    "# Correlation heatmap\n",
    "numeric = df.select_dtypes(include='number')\n",
    "sns.heatmap(numeric.corr(), annot=True, cmap='coolwarm')\n",
    "plt.title('Correlation Matrix')\n",
    "plt.show()\n",
    "\n",
    "# Boxplot: LoanAmount by Defaulted\n",
    "sns.boxplot(x='Defaulted', y='LoanAmount', data=df)\n",
    "plt.title('Loan Amount vs. Default Status')\n",
    "plt.show()\n",
    "\n",
    "# Average grades and allowance\n",
    "sns.histplot(df[df['Defaulted']==0]['GradeAverage'], color='green', label='No Default', kde=True)\n",
    "sns.histplot(df[df['Defaulted']==1]['GradeAverage'], color='red', label='Defaulted', kde=True)\n",
    "plt.legend()\n",
    "plt.title('Grade Average Distribution')\n",
    "plt.show()\n"
   ]
  },
  {
   "cell_type": "markdown",
   "id": "73e53334",
   "metadata": {},
   "source": [
    "## 🛠️ Preprocessing & Model Training"
   ]
  },
  {
   "cell_type": "code",
   "execution_count": null,
   "id": "67229b31",
   "metadata": {},
   "outputs": [],
   "source": [
    "df_encoded = pd.get_dummies(df, drop_first=True)\n",
    "\n",
    "X = df_encoded.drop(\"Defaulted\", axis=1)\n",
    "y = df_encoded[\"Defaulted\"]\n",
    "\n",
    "from sklearn.model_selection import train_test_split\n",
    "X_train, X_test, y_train, y_test = train_test_split(X, y, test_size=0.3, random_state=42)\n"
   ]
  },
  {
   "cell_type": "code",
   "execution_count": null,
   "id": "9cbfec1a",
   "metadata": {},
   "outputs": [],
   "source": [
    "from sklearn.linear_model import LogisticRegression\n",
    "from sklearn.metrics import classification_report, confusion_matrix\n",
    "\n",
    "log_model = LogisticRegression(max_iter=1000)\n",
    "log_model.fit(X_train, y_train)\n",
    "log_preds = log_model.predict(X_test)\n",
    "\n",
    "print(\"Logistic Regression Report:\\n\", classification_report(y_test, log_preds))\n",
    "sns.heatmap(confusion_matrix(y_test, log_preds), annot=True, fmt='d', cmap='Blues')\n",
    "plt.title('Confusion Matrix (Logistic Regression)')\n",
    "plt.show()\n"
   ]
  },
  {
   "cell_type": "code",
   "execution_count": null,
   "id": "033c3280",
   "metadata": {},
   "outputs": [],
   "source": [
    "from xgboost import XGBClassifier\n",
    "\n",
    "xgb_model = XGBClassifier(use_label_encoder=False, eval_metric='logloss')\n",
    "xgb_model.fit(X_train, y_train)\n",
    "xgb_preds = xgb_model.predict(X_test)\n",
    "\n",
    "print(\"XGBoost Report:\\n\", classification_report(y_test, xgb_preds))\n"
   ]
  },
  {
   "cell_type": "code",
   "execution_count": null,
   "id": "97c0e5d4",
   "metadata": {},
   "outputs": [],
   "source": [
    "importances = pd.Series(xgb_model.feature_importances_, index=X.columns)\n",
    "importances.nlargest(10).plot(kind='barh')\n",
    "plt.title('Top Feature Importances (XGBoost)')\n",
    "plt.show()\n"
   ]
  }
 ],
 "metadata": {},
 "nbformat": 4,
 "nbformat_minor": 5
}
